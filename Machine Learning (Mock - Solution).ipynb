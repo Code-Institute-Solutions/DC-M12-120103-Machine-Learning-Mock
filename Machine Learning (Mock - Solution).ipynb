{
 "cells": [
  {
   "cell_type": "markdown",
   "id": "2e42d166-091b-40a6-82cd-869f2a3ec565",
   "metadata": {},
   "source": [
    "# **Logistic Regression: Predicting Diabetes Diagnosis**\n",
    "\n",
    "## Scenario\n",
    "You are a data scientist at a healthcare organisation aiming to develop a predictive model to identify individuals at risk of diabetes. This model will help clinicians prioritise patients for early interventions and preventive care, reducing the burden on healthcare systems and improving patient outcomes.\n",
    "\n",
    "## Dataset Overview\n",
    "The dataset includes the following columns:\n",
    "- `Gender`: Gender of the individual (`1` for male, `0` for female).\n",
    "- `Age`: Age of the individual (in years).\n",
    "- `Hypertension`: Whether the individual has hypertension (`1` for yes, `0` for no).\n",
    "- `Heart_Disease`: Whether the individual has heart disease (`1` for yes, `0` for no).\n",
    "- `BMI`: Body Mass Index (a measure of body fat based on height and weight).\n",
    "- `HbA1c_Level`: Hemoglobin A1c level (a marker of average blood glucose over 3 months, measured in percentage).\n",
    "- `Blood_Glucose_Level`: Current blood glucose level (measured in mg/dL).\n",
    "- `Diabetes`: Whether the individual is at the risk of diabetes (`1` for yes, `0` for no).\n",
    "\n",
    "## Your Challenge\n",
    "Build a logistic regression model to predict whether an individual has diabetes (`Diabetes`).\n",
    "\n",
    "## Important Instructions\n",
    "- Split the dataset into training (70%) and testing (30%) subsets.\n",
    "- Set the `random_state` parameter to `42` to ensure reproducibility."
   ]
  },
  {
   "cell_type": "markdown",
   "id": "2e3fb92d-8ef1-4518-b85f-dbc779548d3d",
   "metadata": {},
   "source": [
    "## Step 1: Import Libraries"
   ]
  },
  {
   "cell_type": "code",
   "execution_count": 95,
   "id": "bb2a01f6-2735-4c69-899e-d521746d6ea0",
   "metadata": {},
   "outputs": [],
   "source": [
    "import pandas as pd  # For data manipulation and analysis\n",
    "import numpy as np  # For numerical operations\n",
    "from sklearn.model_selection import train_test_split  # For splitting the dataset\n",
    "from sklearn.linear_model import LogisticRegression  # Logistic regression model\n",
    "from sklearn.metrics import accuracy_score, classification_report, confusion_matrix  # Evaluation metrics"
   ]
  },
  {
   "cell_type": "markdown",
   "id": "f74e2735-4da9-49fe-ab6b-67bd4a0c9c26",
   "metadata": {},
   "source": [
    "## Step 2: Load the Dataset"
   ]
  },
  {
   "cell_type": "code",
   "execution_count": 97,
   "id": "d1252989-1bfd-480d-a771-e17d2a908906",
   "metadata": {},
   "outputs": [
    {
     "name": "stdout",
     "output_type": "stream",
     "text": [
      "   gender  age  hypertension  heart_disease    bmi  HbA1c_level  \\\n",
      "0       0   80             0              1  25.19          6.6   \n",
      "1       0   54             0              0  27.32          6.6   \n",
      "2       1   28             0              0  27.32          5.7   \n",
      "3       0   36             0              0  23.45          5.0   \n",
      "4       1   76             1              1  20.14          4.8   \n",
      "\n",
      "   blood_glucose_level  diabetes  \n",
      "0                  140         0  \n",
      "1                   80         0  \n",
      "2                  158         0  \n",
      "3                  155         0  \n",
      "4                  155         0  \n"
     ]
    }
   ],
   "source": [
    "# Load the dataset\n",
    "file_path = 'diabetes_prediction.csv'\n",
    "data = pd.read_csv(file_path)\n",
    "\n",
    "# Display the first few rows\n",
    "print(data.head())\n"
   ]
  },
  {
   "cell_type": "markdown",
   "id": "df385675-6f9e-471f-8fb0-2b987547f13d",
   "metadata": {},
   "source": [
    "## Step 3: Data Preparation"
   ]
  },
  {
   "cell_type": "code",
   "execution_count": 99,
   "id": "82183444-7692-47aa-a21f-902f7d6a31a7",
   "metadata": {},
   "outputs": [],
   "source": [
    "# Separate input features and target variable\n",
    "X = data[['gender', 'age', 'hypertension', 'heart_disease', 'bmi','HbA1c_level','blood_glucose_level']] # Input Variables\n",
    "y = data['diabetes'] # Target Variable\n",
    "\n",
    "# Split the dataset into training and testing sets\n",
    "X_train, X_test, y_train, y_test = train_test_split(X, y, test_size=0.3, random_state=42)\n"
   ]
  },
  {
   "cell_type": "markdown",
   "id": "83112725-7952-47b5-b482-cc7bedf07cac",
   "metadata": {},
   "source": [
    "## Step 4: Train the Model"
   ]
  },
  {
   "cell_type": "code",
   "execution_count": 101,
   "id": "fc726fff-ea23-4724-b82c-e0c28273a16e",
   "metadata": {},
   "outputs": [
    {
     "name": "stdout",
     "output_type": "stream",
     "text": [
      "Coefficients: [[0.25786638 0.04614606 0.79375316 0.76579868 0.09333817 2.31777501\n",
      "  0.03266737]]\n",
      "Intercept: [-27.2448112]\n"
     ]
    }
   ],
   "source": [
    "# Initialise and train the logistic regression model\n",
    "model = LogisticRegression(max_iter=1000)\n",
    "model.fit(X_train, y_train)\n",
    "\n",
    "# Display coefficients and intercept\n",
    "print(\"Coefficients:\", model.coef_)\n",
    "print(\"Intercept:\", model.intercept_)"
   ]
  },
  {
   "cell_type": "markdown",
   "id": "09e35481-66b1-4ead-94ac-8079de2d3586",
   "metadata": {},
   "source": [
    "## Step 5: Evaluate the Model"
   ]
  },
  {
   "cell_type": "code",
   "execution_count": 103,
   "id": "28f4c979-8d0c-475f-a479-8957a6986d7b",
   "metadata": {},
   "outputs": [
    {
     "name": "stdout",
     "output_type": "stream",
     "text": [
      "Accuracy: 0.95\n",
      "Confusion Matrix:\n",
      " [[22099   220]\n",
      " [  965  1547]]\n",
      "Classification Report:\n",
      "               precision    recall  f1-score   support\n",
      "\n",
      "           0       0.96      0.99      0.97     22319\n",
      "           1       0.88      0.62      0.72      2512\n",
      "\n",
      "    accuracy                           0.95     24831\n",
      "   macro avg       0.92      0.80      0.85     24831\n",
      "weighted avg       0.95      0.95      0.95     24831\n",
      "\n"
     ]
    }
   ],
   "source": [
    "# Make predictions\n",
    "y_pred = model.predict(X_test)\n",
    "\n",
    "# Calculate accuracy\n",
    "accuracy = accuracy_score(y_test, y_pred)\n",
    "print(f\"Accuracy: {accuracy:.2f}\")\n",
    "\n",
    "# Confusion matrix and classification report\n",
    "print(\"Confusion Matrix:\\n\", confusion_matrix(y_test, y_pred))\n",
    "print(\"Classification Report:\\n\", classification_report(y_test, y_pred))"
   ]
  },
  {
   "cell_type": "markdown",
   "id": "0316bf3d-8dbf-4c32-bca4-a4ae69ba2b87",
   "metadata": {},
   "source": [
    "### **Question - Predicting Diabetes Diagnosis**\n",
    "You are provided with the following data for an individual:\n",
    "\n",
    "- **Gender**: Male (`1`)\n",
    "- **Age**: 75 years\n",
    "- **Hypertension**: No (`0`)\n",
    "- **Heart Disease**: No (`0`)\n",
    "- **BMI**: 27.32\n",
    "- **HbA1c Level**: 6.1\n",
    "- **Blood Glucose Level**: 200 mg/dL\n",
    "\n",
    "## Question\n",
    "Based on the provided characteristics, **predict whether this individual is at the risk of Diabetes (`1`) or not (`0`).**"
   ]
  },
  {
   "cell_type": "code",
   "execution_count": 106,
   "id": "fb61b196-ea7c-429b-b5b2-ee01126bc727",
   "metadata": {},
   "outputs": [
    {
     "data": {
      "text/html": [
       "<div>\n",
       "<style scoped>\n",
       "    .dataframe tbody tr th:only-of-type {\n",
       "        vertical-align: middle;\n",
       "    }\n",
       "\n",
       "    .dataframe tbody tr th {\n",
       "        vertical-align: top;\n",
       "    }\n",
       "\n",
       "    .dataframe thead th {\n",
       "        text-align: right;\n",
       "    }\n",
       "</style>\n",
       "<table border=\"1\" class=\"dataframe\">\n",
       "  <thead>\n",
       "    <tr style=\"text-align: right;\">\n",
       "      <th></th>\n",
       "      <th>gender</th>\n",
       "      <th>age</th>\n",
       "      <th>hypertension</th>\n",
       "      <th>heart_disease</th>\n",
       "      <th>bmi</th>\n",
       "      <th>HbA1c_level</th>\n",
       "      <th>blood_glucose_level</th>\n",
       "    </tr>\n",
       "  </thead>\n",
       "  <tbody>\n",
       "    <tr>\n",
       "      <th>0</th>\n",
       "      <td>1</td>\n",
       "      <td>69</td>\n",
       "      <td>0</td>\n",
       "      <td>0</td>\n",
       "      <td>28</td>\n",
       "      <td>6.5</td>\n",
       "      <td>200</td>\n",
       "    </tr>\n",
       "  </tbody>\n",
       "</table>\n",
       "</div>"
      ],
      "text/plain": [
       "   gender  age  hypertension  heart_disease  bmi  HbA1c_level  \\\n",
       "0       1   69             0              0   28          6.5   \n",
       "\n",
       "   blood_glucose_level  \n",
       "0                  200  "
      ]
     },
     "execution_count": 106,
     "metadata": {},
     "output_type": "execute_result"
    }
   ],
   "source": [
    "X = data[['gender', 'age', 'hypertension', 'heart_disease', 'bmi','HbA1c_level','blood_glucose_level']] # Input Variables\n",
    "\n",
    "# Example new data for prediction\n",
    "new_data = pd.DataFrame({\n",
    "    'gender': [1],\n",
    "    'age': [69],\n",
    "    'hypertension': [0],\n",
    "    'heart_disease': [0],\n",
    "    'bmi': [28],\n",
    "    'HbA1c_level': [6.5],\n",
    "    'blood_glucose_level': [200]\n",
    "})\n",
    "new_data\n"
   ]
  },
  {
   "cell_type": "code",
   "execution_count": 107,
   "id": "89ad57a4-2fc5-465b-baca-59a95ae2f0a9",
   "metadata": {},
   "outputs": [
    {
     "name": "stdout",
     "output_type": "stream",
     "text": [
      "Predicted Classes: [1]\n"
     ]
    }
   ],
   "source": [
    "# Predict the loan status for new data\n",
    "predicted_classes = model.predict(new_data)\n",
    "print(\"Predicted Classes:\", predicted_classes)"
   ]
  }
 ],
 "metadata": {
  "kernelspec": {
   "display_name": "Python 3 (ipykernel)",
   "language": "python",
   "name": "python3"
  },
  "language_info": {
   "codemirror_mode": {
    "name": "ipython",
    "version": 3
   },
   "file_extension": ".py",
   "mimetype": "text/x-python",
   "name": "python",
   "nbconvert_exporter": "python",
   "pygments_lexer": "ipython3",
   "version": "3.12.7"
  }
 },
 "nbformat": 4,
 "nbformat_minor": 5
}
